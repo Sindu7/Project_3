{
 "cells": [
  {
   "cell_type": "code",
   "execution_count": 1,
   "metadata": {},
   "outputs": [],
   "source": [
    "import csv\n",
    "import json\n"
   ]
  },
  {
   "cell_type": "code",
   "execution_count": 2,
   "metadata": {},
   "outputs": [
    {
     "data": {
      "text/plain": [
       "20133351"
      ]
     },
     "execution_count": 2,
     "metadata": {},
     "output_type": "execute_result"
    }
   ],
   "source": [
    "csvfile = open(\"41.18_Arrests_2013_-_2023.csv\", \"r\")\n",
    "jsonfile = open(\"crime.json\", \"w\")\n",
    "\n",
    "fieldnames = (\"Report_ID\",\"Report_Type\",\"Year\",\"Arrest_Date\",\"Time\",\"Time_Range\",\"Area_Name\",\"Reporting_District\",\"Age\",\"Sex\",\"Race\",\"Charge_Group_Description\",\"Arrest_Type\",\"Charge\",\"Charge_Description\",\"Disposition_Description\",\"Address\",\"Cross_Street\",\"LAT\",\"LON\",\"CD\")\n",
    "reader = csv.DictReader(csvfile, fieldnames)\n",
    "out = json.dumps([row for row in reader])\n",
    "jsonfile.write(out)"
   ]
  }
 ],
 "metadata": {
  "kernelspec": {
   "display_name": "dev",
   "language": "python",
   "name": "python3"
  },
  "language_info": {
   "codemirror_mode": {
    "name": "ipython",
    "version": 3
   },
   "file_extension": ".py",
   "mimetype": "text/x-python",
   "name": "python",
   "nbconvert_exporter": "python",
   "pygments_lexer": "ipython3",
   "version": "3.10.12"
  }
 },
 "nbformat": 4,
 "nbformat_minor": 2
}
